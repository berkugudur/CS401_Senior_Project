{
 "cells": [
  {
   "cell_type": "markdown",
   "metadata": {},
   "source": [
    "### This is the test for data for punching standing agent according to its hp.\n",
    "\n",
    "- Standing agent is P1, we are learning P2 (P2 is human player).\n",
    "\n",
    "- Some frames will be removed, there are frames that;\n",
    "    - Both players standing.\n",
    "    - Consecutive ones(If frame's action is same with previous frame, it will be removed).\n",
    "    - If we are(P2) in RECOV frame(Since we don't make RECOV frames ourselves)."
   ]
  },
  {
   "cell_type": "markdown",
   "metadata": {},
   "source": [
    "### Importing libraries"
   ]
  },
  {
   "cell_type": "code",
   "execution_count": null,
   "metadata": {},
   "outputs": [],
   "source": [
    "from keras.models import Sequential\n",
    "from keras.layers import Dense\n",
    "from keras.callbacks import TensorBoard\n",
    "from time import time\n",
    "import numpy as np\n",
    "\n",
    "# For using core package that located in the two upper folder.\n",
    "import sys\n",
    "sys.path.append('../../')\n",
    "\n",
    "from core.json_importer import parse_json_file\n",
    "from core.filters import remove_both_standing_frames, remove_same_consecutive_actions, remove_recov_frames\n",
    "from core.actions import one_hot_encode, decode\n",
    "from core.preproccessing import Normalizer\n",
    "from core.helpers import write_file"
   ]
  },
  {
   "cell_type": "code",
   "execution_count": null,
   "metadata": {},
   "outputs": [],
   "source": [
    "# Open file\n",
    "game_data = parse_json_file(\"data/punch_acc_hp.json\")"
   ]
  },
  {
   "cell_type": "markdown",
   "metadata": {},
   "source": [
    "### Pre process data\n",
    "\n",
    "- In the pre process phase, we remove P2's datas from training set in order to crate labels. Labels are just actions of P2.\n",
    "\n",
    "- We calculate the distance for each coordinate axis. (x distance, y distance)\n",
    "\n",
    "- We also make actions one-hot encoding. \n",
    "\n",
    "- One-hot encoding for inputs and labels are not same. For example, Dash action in the input may have encoding [0,1] while Dash action in the label have encoding [0, 0, 1, 0].\n",
    "\n",
    "- Integer values normalized. (P1-HP, P2-HP, X-Distance, Y-Distance)\n",
    "\n",
    "- <font color='green'>There must be mechanism for understanding is player closing or move away.</font>\n",
    "\n",
    "- There is no test and validation set preparation. Data that gathered from different rounds can be used for this problem.\n",
    "\n",
    "- After pre-process we just have <font color='red'>[P1-Action, P1-HP, P2-HP, X-Distance, Y-Distance] -> P2-Action</font>"
   ]
  },
  {
   "cell_type": "markdown",
   "metadata": {},
   "source": [
    "#### Remove unneeded frames"
   ]
  },
  {
   "cell_type": "code",
   "execution_count": null,
   "metadata": {},
   "outputs": [],
   "source": [
    "l1 = game_data.filter(remove_both_standing_frames)\n",
    "l2 = game_data.filter(remove_same_consecutive_actions)\n",
    "l3 = game_data.filter(remove_recov_frames)\n",
    "\n",
    "print(\"Removed {} frames that both players are standing\".format(l1))\n",
    "print(\"Removed {} frames that have same consecutive actions\".format(l2))\n",
    "print(\"Removed {} frames that are recov frames\".format(l3))\n",
    "print(\"\\n{} frames removed.\".format(l1 + l2 + l3))\n",
    "print(\"{} frames left.\".format(len(game_data)))"
   ]
  },
  {
   "cell_type": "markdown",
   "metadata": {},
   "source": [
    "#### Encoding and normalization"
   ]
  },
  {
   "cell_type": "code",
   "execution_count": null,
   "metadata": {},
   "outputs": [],
   "source": [
    "def normalize_and_save(data, file_name):\n",
    "    p1_hp_normalizer = Normalizer()\n",
    "    p1_normalized_hp = p1_hp_normalizer.normalize(data)\n",
    "    p1_hp_normalizer.save(\"out/\" + file_name)\n",
    "    return p1_normalized_hp\n",
    "\n",
    "## Pre process data\n",
    "processed_data = []\n",
    "\n",
    "# Create one hot encoding for actions (For input and labels)\n",
    "p1_one_hot_encoded_actions = one_hot_encode(game_data.get_column(\"P1-action\"))\n",
    "labels = one_hot_encode(game_data.get_column(\"P2-action\"))\n",
    "\n",
    "# Normalize uncategorized features\n",
    "p1_normalized_hp = normalize_and_save(game_data.get_column(\"P1-hp\"), \"p1_hp_norm.save\")\n",
    "p2_normalized_hp = normalize_and_save(game_data.get_column(\"P2-hp\"), \"p2_hp_norm.save\")\n",
    "normalized_x_distance = normalize_and_save([frame[\"P1-x\"] - frame[\"P2-x\"] for frame in game_data], \"x_norm.save\")\n",
    "normalized_y_distance = normalize_and_save([frame[\"P1-y\"] - frame[\"P2-y\"] for frame in game_data], \"y_norm.save\")\n",
    "\n",
    "for index in range(len(game_data)):    \n",
    "    processed_row = []\n",
    "    processed_row.extend(p1_one_hot_encoded_actions[index])\n",
    "    processed_row.extend(p1_normalized_hp[index]) \n",
    "    processed_row.extend(p2_normalized_hp[index])\n",
    "    processed_row.extend(normalized_x_distance[index])\n",
    "    processed_row.extend(normalized_y_distance[index])\n",
    "    \n",
    "    processed_data.append(processed_row)\n",
    "processed_data = np.array(processed_data)\n",
    "labels = np.array(labels)"
   ]
  },
  {
   "cell_type": "markdown",
   "metadata": {},
   "source": [
    "### Example data"
   ]
  },
  {
   "cell_type": "code",
   "execution_count": null,
   "metadata": {
    "scrolled": false
   },
   "outputs": [],
   "source": [
    "EXAMPLE_ROW = 10\n",
    "\n",
    "print(\"There are %d frames in dataset.\" % len(processed_data))\n",
    "print(\"After pre processing the shape of our dataset is %s\" % str(processed_data.shape))\n",
    "print(\"\\nOne example in index %d.\" % EXAMPLE_ROW)\n",
    "\n",
    "row = processed_data[EXAMPLE_ROW]\n",
    "print(\"\\tProcessed Frame:\" )\n",
    "print(\"\\t\\tP1 Action(one-hot):\\t%s\" % row[0: 55])\n",
    "print(\"\\t\\tP1 Hp(norm.):\\t\\t%s\" % row[55])\n",
    "print(\"\\t\\tP2 Hp(norm.):\\t\\t%s\" % row[56])\n",
    "print(\"\\t\\tX Dist(norm.):\\t\\t%s\" % row[57])\n",
    "print(\"\\t\\tY Dist(norm.):\\t\\t%s\" % row[58])\n",
    "print(\"\\t\\tLabel:\\t\\t\\t%s\" % labels[EXAMPLE_ROW])"
   ]
  },
  {
   "cell_type": "markdown",
   "metadata": {},
   "source": [
    "### Neural Network Design\n",
    "\n",
    "Our neural network has two hidden layers in this test. They has 12 and 8 neurons respectively."
   ]
  },
  {
   "cell_type": "code",
   "execution_count": null,
   "metadata": {},
   "outputs": [],
   "source": [
    "# Constants\n",
    "INPUT_LAYER_SIZE = processed_data.shape[1]\n",
    "OUTPUT_LAYER_SIZE = labels.shape[1]"
   ]
  },
  {
   "cell_type": "code",
   "execution_count": null,
   "metadata": {},
   "outputs": [],
   "source": [
    "model = Sequential()\n",
    "model.add(Dense(12, input_dim=INPUT_LAYER_SIZE, activation='relu'))\n",
    "model.add(Dense(8, activation='relu'))\n",
    "model.add(Dense(OUTPUT_LAYER_SIZE, activation='sigmoid'))\n",
    "\n",
    "model.compile(loss='binary_crossentropy', optimizer='adam', metrics=['accuracy'])"
   ]
  },
  {
   "cell_type": "code",
   "execution_count": null,
   "metadata": {},
   "outputs": [],
   "source": [
    "# Logging for tensorboard\n",
    "tensorboard = TensorBoard(log_dir=\"logs/{}\".format(time()))"
   ]
  },
  {
   "cell_type": "code",
   "execution_count": null,
   "metadata": {
    "scrolled": true
   },
   "outputs": [],
   "source": [
    "model.fit(processed_data, labels, epochs=150, batch_size=10, callbacks=[tensorboard])"
   ]
  },
  {
   "cell_type": "code",
   "execution_count": null,
   "metadata": {
    "scrolled": true
   },
   "outputs": [],
   "source": [
    "scores = model.evaluate(processed_data, labels)\n",
    "print(\"\\n%s: %.2f%%\" % (model.metrics_names[1], scores[1]*100))"
   ]
  },
  {
   "cell_type": "markdown",
   "metadata": {},
   "source": [
    "### Save model"
   ]
  },
  {
   "cell_type": "code",
   "execution_count": null,
   "metadata": {},
   "outputs": [],
   "source": [
    "model.save(\"out/model.h5\")\n",
    "write_file(\"out/config.json\", model.to_json())"
   ]
  },
  {
   "cell_type": "code",
   "execution_count": null,
   "metadata": {},
   "outputs": [],
   "source": [
    "game_data.rounds[0][0][game_data.columns.index(\"P2-action\")]"
   ]
  }
 ],
 "metadata": {
  "kernelspec": {
   "display_name": "Python 3",
   "language": "python",
   "name": "python3"
  },
  "language_info": {
   "codemirror_mode": {
    "name": "ipython",
    "version": 3
   },
   "file_extension": ".py",
   "mimetype": "text/x-python",
   "name": "python",
   "nbconvert_exporter": "python",
   "pygments_lexer": "ipython3",
   "version": "3.6.1"
  }
 },
 "nbformat": 4,
 "nbformat_minor": 2
}
