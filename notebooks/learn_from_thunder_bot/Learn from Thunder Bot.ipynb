{
 "cells": [
  {
   "cell_type": "markdown",
   "metadata": {},
   "source": [
    "### This is the test for data for learning from Thunder BOT\n",
    "\n",
    "- P1 is human, we are learning P2 (P2 is Thunder BOT).\n",
    "\n",
    "- Some frames will be removed, there are frames that;\n",
    "    - Both players standing.\n",
    "    - If we are(P2) in RECOV frame(Since we don't make RECOV frames ourselves)."
   ]
  },
  {
   "cell_type": "markdown",
   "metadata": {},
   "source": [
    "### Importing libraries"
   ]
  },
  {
   "cell_type": "code",
   "execution_count": 1,
   "metadata": {},
   "outputs": [
    {
     "name": "stderr",
     "output_type": "stream",
     "text": [
      "Using TensorFlow backend.\n"
     ]
    }
   ],
   "source": [
    "from keras.models import Sequential\n",
    "from keras.layers import Dense\n",
    "from keras.callbacks import TensorBoard\n",
    "from time import time\n",
    "import numpy as np\n",
    "\n",
    "# For using core package that located in the two upper folder.\n",
    "import sys\n",
    "sys.path.append('../../')\n",
    "\n",
    "from core.json_importer import parse_json_file\n",
    "from core.filters import remove_unpressed_frames, remove_both_standing_frames, remove_same_consecutive_actions, remove_recov_frames\n",
    "from core.actions import one_hot_encode, decode\n",
    "from core.preproccessing import Normalizer\n",
    "from core.helpers import write_file"
   ]
  },
  {
   "cell_type": "code",
   "execution_count": 2,
   "metadata": {},
   "outputs": [],
   "source": [
    "# Open file\n",
    "game_data = parse_json_file(\"data/VSTHUNDER.json\")"
   ]
  },
  {
   "cell_type": "markdown",
   "metadata": {},
   "source": [
    "### Pre process data\n",
    "\n",
    "- In the pre process phase, we remove P2's datas from training set in order to crate labels. Labels are just actions of P2.\n",
    "\n",
    "- We calculate the distance for each coordinate axis. (x distance, y distance)\n",
    "\n",
    "- We also make actions one-hot encoding. \n",
    "\n",
    "- One-hot encoding for inputs and labels are not same. For example, Dash action in the input may have encoding [0,1] while Dash action in the label have encoding [0, 0, 1, 0].\n",
    "\n",
    "- Integer values normalized. (P1-HP, P2-HP, X-Distance, Y-Distance)\n",
    "\n",
    "- <font color='green'>There must be mechanism for understanding is player closing or move away.</font>\n",
    "\n",
    "- There is no test and validation set preparation. Data that gathered from different rounds can be used for this problem.\n",
    "\n",
    "- After pre-process we just have <font color='red'>[P1-Action, P1-HP, P2-HP, X-Distance, Y-Distance] -> P2-Action</font>"
   ]
  },
  {
   "cell_type": "markdown",
   "metadata": {},
   "source": [
    "#### Remove unneeded frames"
   ]
  },
  {
   "cell_type": "code",
   "execution_count": 3,
   "metadata": {},
   "outputs": [
    {
     "name": "stdout",
     "output_type": "stream",
     "text": [
      "Removed 258 frames that both players are standing\n",
      "Removed 2419 frames that are recov frames\n",
      "\n",
      "2677 frames removed.\n",
      "8088 frames left.\n"
     ]
    }
   ],
   "source": [
    "l1 = game_data.filter(remove_both_standing_frames)\n",
    "l3 = game_data.filter(remove_recov_frames)\n",
    "\n",
    "print(\"Removed {} frames that both players are standing\".format(l1))\n",
    "print(\"Removed {} frames that are recov frames\".format(l3))\n",
    "print(\"\\n{} frames removed.\".format(l1 + l3))\n",
    "print(\"{} frames left.\".format(len(game_data)))"
   ]
  },
  {
   "cell_type": "markdown",
   "metadata": {},
   "source": [
    "#### Encoding and normalization"
   ]
  },
  {
   "cell_type": "code",
   "execution_count": 4,
   "metadata": {},
   "outputs": [],
   "source": [
    "def normalize_and_save(data, file_name):\n",
    "    p1_hp_normalizer = Normalizer()\n",
    "    p1_normalized_hp = p1_hp_normalizer.normalize(data)\n",
    "    p1_hp_normalizer.save(\"out/\" + file_name)\n",
    "    return p1_normalized_hp\n",
    "\n",
    "## Pre process data\n",
    "processed_data = []\n",
    "\n",
    "# Create one hot encoding for actions (For input and labels)\n",
    "p1_one_hot_encoded_actions = one_hot_encode(game_data.get_column(\"P1-action\"))\n",
    "labels = one_hot_encode(game_data.get_column(\"P2-action\"))\n",
    "\n",
    "# Normalize uncategorized features\n",
    "p1_normalized_hp = normalize_and_save(game_data.get_column(\"P1-hp\"), \"p1_hp_norm.save\")\n",
    "p2_normalized_hp = normalize_and_save(game_data.get_column(\"P2-hp\"), \"p2_hp_norm.save\")\n",
    "normalized_x_distance = normalize_and_save([frame[\"P1-x\"] - frame[\"P2-x\"] for frame in game_data], \"x_norm.save\")\n",
    "normalized_y_distance = normalize_and_save([frame[\"P1-y\"] - frame[\"P2-y\"] for frame in game_data], \"y_norm.save\")\n",
    "\n",
    "for index in range(len(game_data)):    \n",
    "    processed_row = []\n",
    "    processed_row.extend(p1_one_hot_encoded_actions[index])\n",
    "    processed_row.extend(p1_normalized_hp[index]) \n",
    "    processed_row.extend(p2_normalized_hp[index])\n",
    "    processed_row.extend(normalized_x_distance[index])\n",
    "    processed_row.extend(normalized_y_distance[index])\n",
    "    \n",
    "    processed_data.append(processed_row)\n",
    "processed_data = np.array(processed_data)\n",
    "labels = np.array(labels)"
   ]
  },
  {
   "cell_type": "markdown",
   "metadata": {},
   "source": [
    "### Example data"
   ]
  },
  {
   "cell_type": "code",
   "execution_count": 5,
   "metadata": {
    "scrolled": false
   },
   "outputs": [
    {
     "name": "stdout",
     "output_type": "stream",
     "text": [
      "There are 8088 frames in dataset.\n",
      "After pre processing the shape of our dataset is (8088, 59)\n",
      "\n",
      "One example in index 10.\n",
      "\tProcessed Frame:\n",
      "\t\tP1 Action(one-hot):\t[0. 1. 0. 0. 0. 0. 0. 0. 0. 0. 0. 0. 0. 0. 0. 0. 0. 0. 0. 0. 0. 0. 0. 0.\n",
      " 0. 0. 0. 0. 0. 0. 0. 0. 0. 0. 0. 0. 0. 0. 0. 0. 0. 0. 0. 0. 0. 0. 0. 0.\n",
      " 0. 0. 0. 0. 0. 0. 0.]\n",
      "\t\tP1 Hp(norm.):\t\t0.0\n",
      "\t\tP2 Hp(norm.):\t\t0.0\n",
      "\t\tX Dist(norm.):\t\t0.10673443456162643\n",
      "\t\tY Dist(norm.):\t\t0.035483870967741936\n",
      "\t\tLabel:\t\t\t[0 0 0 0 0 0 0 0 0 0 0 0 0 0 0 0 0 0 0 0 0 0 0 0 0 0 0 0 1 0 0 0 0 0 0 0 0\n",
      " 0 0 0 0 0 0 0 0 0 0 0 0 0 0 0 0 0 0]\n"
     ]
    }
   ],
   "source": [
    "EXAMPLE_ROW = 10\n",
    "\n",
    "print(\"There are %d frames in dataset.\" % len(processed_data))\n",
    "print(\"After pre processing the shape of our dataset is %s\" % str(processed_data.shape))\n",
    "print(\"\\nOne example in index %d.\" % EXAMPLE_ROW)\n",
    "\n",
    "row = processed_data[EXAMPLE_ROW]\n",
    "print(\"\\tProcessed Frame:\" )\n",
    "print(\"\\t\\tP1 Action(one-hot):\\t%s\" % row[0: 55])\n",
    "print(\"\\t\\tP1 Hp(norm.):\\t\\t%s\" % row[55])\n",
    "print(\"\\t\\tP2 Hp(norm.):\\t\\t%s\" % row[56])\n",
    "print(\"\\t\\tX Dist(norm.):\\t\\t%s\" % row[57])\n",
    "print(\"\\t\\tY Dist(norm.):\\t\\t%s\" % row[58])\n",
    "print(\"\\t\\tLabel:\\t\\t\\t%s\" % labels[EXAMPLE_ROW])"
   ]
  },
  {
   "cell_type": "markdown",
   "metadata": {},
   "source": [
    "### Neural Network Design\n",
    "\n",
    "Our neural network has two hidden layers in this test. They has 12 and 8 neurons respectively."
   ]
  },
  {
   "cell_type": "code",
   "execution_count": 6,
   "metadata": {},
   "outputs": [],
   "source": [
    "# Constants\n",
    "INPUT_LAYER_SIZE = processed_data.shape[1]\n",
    "OUTPUT_LAYER_SIZE = labels.shape[1]"
   ]
  },
  {
   "cell_type": "code",
   "execution_count": 7,
   "metadata": {},
   "outputs": [],
   "source": [
    "model = Sequential()\n",
    "model.add(Dense(12, input_dim=INPUT_LAYER_SIZE, activation='relu'))\n",
    "model.add(Dense(8, activation='relu'))\n",
    "model.add(Dense(OUTPUT_LAYER_SIZE, activation='sigmoid'))\n",
    "\n",
    "model.compile(loss='binary_crossentropy', optimizer='adam', metrics=['accuracy'])"
   ]
  },
  {
   "cell_type": "code",
   "execution_count": 8,
   "metadata": {},
   "outputs": [],
   "source": [
    "# Logging for tensorboard\n",
    "tensorboard = TensorBoard(log_dir=\"logs/{}\".format(time()))"
   ]
  },
  {
   "cell_type": "code",
   "execution_count": 9,
   "metadata": {
    "scrolled": true
   },
   "outputs": [
    {
     "name": "stdout",
     "output_type": "stream",
     "text": [
      "Epoch 1/150\n",
      "8088/8088 [==============================] - 1s 139us/step - loss: 0.1339 - acc: 0.9618\n",
      "Epoch 2/150\n",
      "8088/8088 [==============================] - 1s 115us/step - loss: 0.0479 - acc: 0.9825\n",
      "Epoch 3/150\n",
      "8088/8088 [==============================] - 1s 114us/step - loss: 0.0413 - acc: 0.9862\n",
      "Epoch 4/150\n",
      "8088/8088 [==============================] - 1s 103us/step - loss: 0.0380 - acc: 0.9872\n",
      "Epoch 5/150\n",
      "8088/8088 [==============================] - 1s 104us/step - loss: 0.0366 - acc: 0.9875\n",
      "Epoch 6/150\n",
      "8088/8088 [==============================] - 2s 228us/step - loss: 0.0356 - acc: 0.9876\n",
      "Epoch 7/150\n",
      "8088/8088 [==============================] - 1s 140us/step - loss: 0.0348 - acc: 0.9880\n",
      "Epoch 8/150\n",
      "8088/8088 [==============================] - 1s 121us/step - loss: 0.0340 - acc: 0.9882\n",
      "Epoch 9/150\n",
      "8088/8088 [==============================] - 1s 105us/step - loss: 0.0333 - acc: 0.9882\n",
      "Epoch 10/150\n",
      "8088/8088 [==============================] - 1s 104us/step - loss: 0.0325 - acc: 0.9884\n",
      "Epoch 11/150\n",
      "8088/8088 [==============================] - 1s 106us/step - loss: 0.0318 - acc: 0.9885\n",
      "Epoch 12/150\n",
      "8088/8088 [==============================] - 1s 102us/step - loss: 0.0313 - acc: 0.9885\n",
      "Epoch 13/150\n",
      "8088/8088 [==============================] - 1s 105us/step - loss: 0.0308 - acc: 0.9885\n",
      "Epoch 14/150\n",
      "8088/8088 [==============================] - 1s 105us/step - loss: 0.0304 - acc: 0.9886\n",
      "Epoch 15/150\n",
      "8088/8088 [==============================] - 1s 105us/step - loss: 0.0300 - acc: 0.9887\n",
      "Epoch 16/150\n",
      "8088/8088 [==============================] - 1s 122us/step - loss: 0.0297 - acc: 0.9887\n",
      "Epoch 17/150\n",
      "8088/8088 [==============================] - 1s 122us/step - loss: 0.0294 - acc: 0.9888\n",
      "Epoch 18/150\n",
      "8088/8088 [==============================] - 1s 109us/step - loss: 0.0292 - acc: 0.9888\n",
      "Epoch 19/150\n",
      "8088/8088 [==============================] - 1s 104us/step - loss: 0.0289 - acc: 0.9890\n",
      "Epoch 20/150\n",
      "8088/8088 [==============================] - 1s 105us/step - loss: 0.0287 - acc: 0.9890\n",
      "Epoch 21/150\n",
      "8088/8088 [==============================] - 1s 126us/step - loss: 0.0284 - acc: 0.9891\n",
      "Epoch 22/150\n",
      "8088/8088 [==============================] - 2s 196us/step - loss: 0.0282 - acc: 0.9892\n",
      "Epoch 23/150\n",
      "8088/8088 [==============================] - 1s 134us/step - loss: 0.0280 - acc: 0.9892\n",
      "Epoch 24/150\n",
      "8088/8088 [==============================] - 1s 113us/step - loss: 0.0278 - acc: 0.9892\n",
      "Epoch 25/150\n",
      "8088/8088 [==============================] - 1s 105us/step - loss: 0.0276 - acc: 0.9893\n",
      "Epoch 26/150\n",
      "8088/8088 [==============================] - 1s 104us/step - loss: 0.0275 - acc: 0.9893\n",
      "Epoch 27/150\n",
      "8088/8088 [==============================] - 1s 106us/step - loss: 0.0273 - acc: 0.9893\n",
      "Epoch 28/150\n",
      "8088/8088 [==============================] - 1s 108us/step - loss: 0.0272 - acc: 0.9894\n",
      "Epoch 29/150\n",
      "8088/8088 [==============================] - 1s 107us/step - loss: 0.0270 - acc: 0.9894\n",
      "Epoch 30/150\n",
      "8088/8088 [==============================] - 1s 114us/step - loss: 0.0269 - acc: 0.9895\n",
      "Epoch 31/150\n",
      "8088/8088 [==============================] - 1s 114us/step - loss: 0.0268 - acc: 0.9895\n",
      "Epoch 32/150\n",
      "8088/8088 [==============================] - 1s 127us/step - loss: 0.0267 - acc: 0.9895\n",
      "Epoch 33/150\n",
      "8088/8088 [==============================] - 1s 113us/step - loss: 0.0266 - acc: 0.9895\n",
      "Epoch 34/150\n",
      "8088/8088 [==============================] - 1s 104us/step - loss: 0.0265 - acc: 0.9896\n",
      "Epoch 35/150\n",
      "8088/8088 [==============================] - 1s 104us/step - loss: 0.0264 - acc: 0.9895\n",
      "Epoch 36/150\n",
      "8088/8088 [==============================] - 1s 104us/step - loss: 0.0264 - acc: 0.9897\n",
      "Epoch 37/150\n",
      "8088/8088 [==============================] - 1s 127us/step - loss: 0.0262 - acc: 0.9896\n",
      "Epoch 38/150\n",
      "8088/8088 [==============================] - 1s 127us/step - loss: 0.0261 - acc: 0.9896\n",
      "Epoch 39/150\n",
      "8088/8088 [==============================] - 1s 182us/step - loss: 0.0260 - acc: 0.9897\n",
      "Epoch 40/150\n",
      "8088/8088 [==============================] - 1s 137us/step - loss: 0.0259 - acc: 0.9898\n",
      "Epoch 41/150\n",
      "8088/8088 [==============================] - 1s 111us/step - loss: 0.0259 - acc: 0.9898\n",
      "Epoch 42/150\n",
      "8088/8088 [==============================] - 1s 104us/step - loss: 0.0258 - acc: 0.9898\n",
      "Epoch 43/150\n",
      "8088/8088 [==============================] - 1s 104us/step - loss: 0.0257 - acc: 0.9899\n",
      "Epoch 44/150\n",
      "8088/8088 [==============================] - 1s 106us/step - loss: 0.0256 - acc: 0.9898\n",
      "Epoch 45/150\n",
      "8088/8088 [==============================] - 1s 120us/step - loss: 0.0256 - acc: 0.9899\n",
      "Epoch 46/150\n",
      "8088/8088 [==============================] - 1s 111us/step - loss: 0.0255 - acc: 0.9899\n",
      "Epoch 47/150\n",
      "8088/8088 [==============================] - 1s 120us/step - loss: 0.0254 - acc: 0.9899\n",
      "Epoch 48/150\n",
      "8088/8088 [==============================] - 1s 133us/step - loss: 0.0253 - acc: 0.9899\n",
      "Epoch 49/150\n",
      "8088/8088 [==============================] - 1s 123us/step - loss: 0.0253 - acc: 0.9899\n",
      "Epoch 50/150\n",
      "8088/8088 [==============================] - 1s 116us/step - loss: 0.0252 - acc: 0.9901\n",
      "Epoch 51/150\n",
      "8088/8088 [==============================] - 1s 116us/step - loss: 0.0251 - acc: 0.9901\n",
      "Epoch 52/150\n",
      "8088/8088 [==============================] - 2s 209us/step - loss: 0.0251 - acc: 0.9900\n",
      "Epoch 53/150\n",
      "8088/8088 [==============================] - 1s 178us/step - loss: 0.0250 - acc: 0.9901\n",
      "Epoch 54/150\n",
      "8088/8088 [==============================] - 2s 193us/step - loss: 0.0249 - acc: 0.9900\n",
      "Epoch 55/150\n",
      "8088/8088 [==============================] - 1s 137us/step - loss: 0.0248 - acc: 0.9901\n",
      "Epoch 56/150\n",
      "8088/8088 [==============================] - 1s 129us/step - loss: 0.0248 - acc: 0.9901\n",
      "Epoch 57/150\n",
      "8088/8088 [==============================] - 1s 107us/step - loss: 0.0247 - acc: 0.9902\n",
      "Epoch 58/150\n",
      "8088/8088 [==============================] - 1s 106us/step - loss: 0.0246 - acc: 0.9902\n",
      "Epoch 59/150\n",
      "8088/8088 [==============================] - 1s 117us/step - loss: 0.0246 - acc: 0.9902\n",
      "Epoch 60/150\n",
      "8088/8088 [==============================] - 1s 149us/step - loss: 0.0245 - acc: 0.9903\n",
      "Epoch 61/150\n",
      "8088/8088 [==============================] - 1s 157us/step - loss: 0.0244 - acc: 0.9904\n",
      "Epoch 62/150\n",
      "8088/8088 [==============================] - 1s 122us/step - loss: 0.0244 - acc: 0.9904\n",
      "Epoch 63/150\n",
      "8088/8088 [==============================] - 1s 129us/step - loss: 0.0243 - acc: 0.9904\n",
      "Epoch 64/150\n",
      "8088/8088 [==============================] - 1s 107us/step - loss: 0.0243 - acc: 0.9905\n",
      "Epoch 65/150\n",
      "8088/8088 [==============================] - 1s 169us/step - loss: 0.0242 - acc: 0.9906\n",
      "Epoch 66/150\n",
      "8088/8088 [==============================] - 2s 187us/step - loss: 0.0241 - acc: 0.9905\n",
      "Epoch 67/150\n",
      "8088/8088 [==============================] - 2s 205us/step - loss: 0.0240 - acc: 0.9906\n",
      "Epoch 68/150\n",
      "8088/8088 [==============================] - 1s 121us/step - loss: 0.0240 - acc: 0.9906\n",
      "Epoch 69/150\n",
      "8088/8088 [==============================] - 1s 104us/step - loss: 0.0240 - acc: 0.9906\n",
      "Epoch 70/150\n",
      "8088/8088 [==============================] - 1s 120us/step - loss: 0.0239 - acc: 0.9906\n",
      "Epoch 71/150\n",
      "8088/8088 [==============================] - 1s 112us/step - loss: 0.0239 - acc: 0.9906\n",
      "Epoch 72/150\n",
      "8088/8088 [==============================] - 1s 131us/step - loss: 0.0238 - acc: 0.9906\n",
      "Epoch 73/150\n",
      "8088/8088 [==============================] - 1s 125us/step - loss: 0.0238 - acc: 0.9907\n",
      "Epoch 74/150\n",
      "8088/8088 [==============================] - 1s 128us/step - loss: 0.0237 - acc: 0.9907\n",
      "Epoch 75/150\n",
      "8088/8088 [==============================] - 1s 138us/step - loss: 0.0237 - acc: 0.9906\n",
      "Epoch 76/150\n",
      "8088/8088 [==============================] - 1s 111us/step - loss: 0.0236 - acc: 0.9907\n",
      "Epoch 77/150\n",
      "8088/8088 [==============================] - 1s 106us/step - loss: 0.0236 - acc: 0.9909\n",
      "Epoch 78/150\n",
      "8088/8088 [==============================] - 1s 109us/step - loss: 0.0235 - acc: 0.9907\n",
      "Epoch 79/150\n",
      "8088/8088 [==============================] - 1s 112us/step - loss: 0.0235 - acc: 0.9908\n",
      "Epoch 80/150\n",
      "8088/8088 [==============================] - 2s 244us/step - loss: 0.0235 - acc: 0.9908\n",
      "Epoch 81/150\n",
      "8088/8088 [==============================] - 1s 160us/step - loss: 0.0234 - acc: 0.9908\n",
      "Epoch 82/150\n",
      "8088/8088 [==============================] - 1s 131us/step - loss: 0.0233 - acc: 0.9908\n",
      "Epoch 83/150\n",
      "8088/8088 [==============================] - 1s 126us/step - loss: 0.0233 - acc: 0.9909\n",
      "Epoch 84/150\n",
      "8088/8088 [==============================] - 1s 125us/step - loss: 0.0233 - acc: 0.9909\n",
      "Epoch 85/150\n",
      "8088/8088 [==============================] - 1s 103us/step - loss: 0.0232 - acc: 0.9909\n",
      "Epoch 86/150\n",
      "8088/8088 [==============================] - 1s 102us/step - loss: 0.0232 - acc: 0.9909\n",
      "Epoch 87/150\n",
      "8088/8088 [==============================] - 1s 103us/step - loss: 0.0232 - acc: 0.9909\n",
      "Epoch 88/150\n",
      "8088/8088 [==============================] - 1s 103us/step - loss: 0.0231 - acc: 0.9909\n",
      "Epoch 89/150\n",
      "8088/8088 [==============================] - 1s 123us/step - loss: 0.0231 - acc: 0.9909\n",
      "Epoch 90/150\n",
      "8088/8088 [==============================] - 1s 124us/step - loss: 0.0230 - acc: 0.9909\n",
      "Epoch 91/150\n",
      "8088/8088 [==============================] - 1s 103us/step - loss: 0.0230 - acc: 0.9909\n",
      "Epoch 92/150\n",
      "8088/8088 [==============================] - 1s 104us/step - loss: 0.0230 - acc: 0.9910\n",
      "Epoch 93/150\n",
      "8088/8088 [==============================] - 1s 109us/step - loss: 0.0229 - acc: 0.9910\n",
      "Epoch 94/150\n",
      "8088/8088 [==============================] - 1s 105us/step - loss: 0.0229 - acc: 0.9910\n",
      "Epoch 95/150\n",
      "8088/8088 [==============================] - 1s 162us/step - loss: 0.0228 - acc: 0.9909 2s - los\n",
      "Epoch 96/150\n",
      "8088/8088 [==============================] - 1s 170us/step - loss: 0.0227 - acc: 0.9911\n",
      "Epoch 97/150\n",
      "8088/8088 [==============================] - 1s 131us/step - loss: 0.0227 - acc: 0.9911\n",
      "Epoch 98/150\n",
      "8088/8088 [==============================] - 1s 107us/step - loss: 0.0227 - acc: 0.9911\n",
      "Epoch 99/150\n",
      "8088/8088 [==============================] - 1s 102us/step - loss: 0.0227 - acc: 0.9910\n",
      "Epoch 100/150\n",
      "8088/8088 [==============================] - 1s 102us/step - loss: 0.0226 - acc: 0.9911\n",
      "Epoch 101/150\n",
      "8088/8088 [==============================] - 1s 103us/step - loss: 0.0225 - acc: 0.9912\n",
      "Epoch 102/150\n",
      "8088/8088 [==============================] - 1s 102us/step - loss: 0.0225 - acc: 0.9911\n",
      "Epoch 103/150\n",
      "8088/8088 [==============================] - 1s 103us/step - loss: 0.0224 - acc: 0.9911\n",
      "Epoch 104/150\n",
      "8088/8088 [==============================] - 1s 103us/step - loss: 0.0225 - acc: 0.9912\n",
      "Epoch 105/150\n",
      "8088/8088 [==============================] - 1s 124us/step - loss: 0.0224 - acc: 0.9912\n",
      "Epoch 106/150\n",
      "8088/8088 [==============================] - 1s 114us/step - loss: 0.0224 - acc: 0.9912\n",
      "Epoch 107/150\n",
      "8088/8088 [==============================] - 1s 110us/step - loss: 0.0223 - acc: 0.9911\n",
      "Epoch 108/150\n",
      "8088/8088 [==============================] - 1s 118us/step - loss: 0.0223 - acc: 0.9911\n",
      "Epoch 109/150\n",
      "8088/8088 [==============================] - 1s 105us/step - loss: 0.0223 - acc: 0.9913\n",
      "Epoch 110/150\n",
      "8088/8088 [==============================] - 1s 184us/step - loss: 0.0223 - acc: 0.9912\n",
      "Epoch 111/150\n",
      "8088/8088 [==============================] - 1s 147us/step - loss: 0.0223 - acc: 0.9911\n",
      "Epoch 112/150\n",
      "8088/8088 [==============================] - 1s 128us/step - loss: 0.0222 - acc: 0.9912\n",
      "Epoch 113/150\n",
      "8088/8088 [==============================] - 1s 102us/step - loss: 0.0222 - acc: 0.9913\n",
      "Epoch 114/150\n",
      "8088/8088 [==============================] - 1s 108us/step - loss: 0.0222 - acc: 0.9912\n",
      "Epoch 115/150\n",
      "8088/8088 [==============================] - 1s 104us/step - loss: 0.0221 - acc: 0.9912\n",
      "Epoch 116/150\n",
      "8088/8088 [==============================] - 1s 103us/step - loss: 0.0221 - acc: 0.9912\n",
      "Epoch 117/150\n",
      "8088/8088 [==============================] - 1s 104us/step - loss: 0.0221 - acc: 0.9912\n",
      "Epoch 118/150\n",
      "8088/8088 [==============================] - 1s 103us/step - loss: 0.0221 - acc: 0.9912\n",
      "Epoch 119/150\n",
      "8088/8088 [==============================] - 1s 102us/step - loss: 0.0221 - acc: 0.9912\n",
      "Epoch 120/150\n",
      "8088/8088 [==============================] - 1s 107us/step - loss: 0.0220 - acc: 0.9913\n",
      "Epoch 121/150\n",
      "8088/8088 [==============================] - 1s 134us/step - loss: 0.0220 - acc: 0.9912\n",
      "Epoch 122/150\n",
      "8088/8088 [==============================] - 1s 121us/step - loss: 0.0220 - acc: 0.9912\n",
      "Epoch 123/150\n",
      "8088/8088 [==============================] - 1s 114us/step - loss: 0.0220 - acc: 0.9913\n",
      "Epoch 124/150\n",
      "8088/8088 [==============================] - 1s 112us/step - loss: 0.0220 - acc: 0.9913\n",
      "Epoch 125/150\n",
      "8088/8088 [==============================] - 1s 118us/step - loss: 0.0219 - acc: 0.9913\n",
      "Epoch 126/150\n",
      "8088/8088 [==============================] - 2s 226us/step - loss: 0.0219 - acc: 0.9913\n",
      "Epoch 127/150\n",
      "8088/8088 [==============================] - 1s 175us/step - loss: 0.0219 - acc: 0.9913\n",
      "Epoch 128/150\n",
      "8088/8088 [==============================] - 1s 167us/step - loss: 0.0218 - acc: 0.9913 1s - loss: 0.02\n",
      "Epoch 129/150\n",
      "8088/8088 [==============================] - 1s 128us/step - loss: 0.0218 - acc: 0.9912\n",
      "Epoch 130/150\n",
      "8088/8088 [==============================] - 1s 123us/step - loss: 0.0218 - acc: 0.9914\n",
      "Epoch 131/150\n",
      "8088/8088 [==============================] - 1s 102us/step - loss: 0.0218 - acc: 0.9913\n",
      "Epoch 132/150\n",
      "8088/8088 [==============================] - 1s 103us/step - loss: 0.0217 - acc: 0.9914\n",
      "Epoch 133/150\n",
      "8088/8088 [==============================] - 1s 104us/step - loss: 0.0217 - acc: 0.9913\n",
      "Epoch 134/150\n",
      "8088/8088 [==============================] - 1s 104us/step - loss: 0.0217 - acc: 0.9912\n",
      "Epoch 135/150\n",
      "8088/8088 [==============================] - 1s 129us/step - loss: 0.0217 - acc: 0.9913\n",
      "Epoch 136/150\n",
      "8088/8088 [==============================] - 1s 133us/step - loss: 0.0216 - acc: 0.9913\n",
      "Epoch 137/150\n",
      "8088/8088 [==============================] - 1s 119us/step - loss: 0.0217 - acc: 0.9914\n",
      "Epoch 138/150\n",
      "8088/8088 [==============================] - 1s 140us/step - loss: 0.0216 - acc: 0.9913\n",
      "Epoch 139/150\n",
      "8088/8088 [==============================] - 1s 118us/step - loss: 0.0216 - acc: 0.9914\n",
      "Epoch 140/150\n",
      "8088/8088 [==============================] - 2s 273us/step - loss: 0.0216 - acc: 0.9914\n",
      "Epoch 141/150\n",
      "8088/8088 [==============================] - 2s 198us/step - loss: 0.0216 - acc: 0.9914\n",
      "Epoch 142/150\n",
      "8088/8088 [==============================] - 1s 142us/step - loss: 0.0215 - acc: 0.9914\n",
      "Epoch 143/150\n",
      "8088/8088 [==============================] - 1s 135us/step - loss: 0.0215 - acc: 0.9914\n",
      "Epoch 144/150\n",
      "8088/8088 [==============================] - 1s 125us/step - loss: 0.0215 - acc: 0.9914\n",
      "Epoch 145/150\n",
      "8088/8088 [==============================] - 1s 111us/step - loss: 0.0215 - acc: 0.9913\n",
      "Epoch 146/150\n",
      "8088/8088 [==============================] - 1s 145us/step - loss: 0.0215 - acc: 0.9914\n",
      "Epoch 147/150\n",
      "8088/8088 [==============================] - 1s 138us/step - loss: 0.0215 - acc: 0.9914\n",
      "Epoch 148/150\n",
      "8088/8088 [==============================] - 1s 136us/step - loss: 0.0214 - acc: 0.9915\n",
      "Epoch 149/150\n",
      "8088/8088 [==============================] - 1s 111us/step - loss: 0.0214 - acc: 0.9914\n",
      "Epoch 150/150\n",
      "8088/8088 [==============================] - 1s 111us/step - loss: 0.0214 - acc: 0.9914\n"
     ]
    },
    {
     "data": {
      "text/plain": [
       "<keras.callbacks.History at 0x7fcf3f404b38>"
      ]
     },
     "execution_count": 9,
     "metadata": {},
     "output_type": "execute_result"
    }
   ],
   "source": [
    "model.fit(processed_data, labels, epochs=150, batch_size=10, callbacks=[tensorboard])"
   ]
  },
  {
   "cell_type": "code",
   "execution_count": 10,
   "metadata": {
    "scrolled": true
   },
   "outputs": [
    {
     "name": "stdout",
     "output_type": "stream",
     "text": [
      "8088/8088 [==============================] - 0s 17us/step\n",
      "\n",
      "acc: 99.16%\n"
     ]
    }
   ],
   "source": [
    "scores = model.evaluate(processed_data, labels)\n",
    "print(\"\\n%s: %.2f%%\" % (model.metrics_names[1], scores[1]*100))"
   ]
  },
  {
   "cell_type": "markdown",
   "metadata": {},
   "source": [
    "### Save model"
   ]
  },
  {
   "cell_type": "code",
   "execution_count": 11,
   "metadata": {},
   "outputs": [],
   "source": [
    "model.save(\"out/model.h5\")\n",
    "write_file(\"out/config.json\", model.to_json())"
   ]
  },
  {
   "cell_type": "code",
   "execution_count": 12,
   "metadata": {},
   "outputs": [
    {
     "data": {
      "text/plain": [
       "'FORWARD_WALK'"
      ]
     },
     "execution_count": 12,
     "metadata": {},
     "output_type": "execute_result"
    }
   ],
   "source": [
    "game_data.rounds[0][0][game_data.columns.index(\"P2-action\")]"
   ]
  },
  {
   "cell_type": "code",
   "execution_count": null,
   "metadata": {},
   "outputs": [],
   "source": []
  },
  {
   "cell_type": "code",
   "execution_count": null,
   "metadata": {},
   "outputs": [],
   "source": []
  }
 ],
 "metadata": {
  "kernelspec": {
   "display_name": "Python 3",
   "language": "python",
   "name": "python3"
  },
  "language_info": {
   "codemirror_mode": {
    "name": "ipython",
    "version": 3
   },
   "file_extension": ".py",
   "mimetype": "text/x-python",
   "name": "python",
   "nbconvert_exporter": "python",
   "pygments_lexer": "ipython3",
   "version": "3.5.2"
  }
 },
 "nbformat": 4,
 "nbformat_minor": 2
}
